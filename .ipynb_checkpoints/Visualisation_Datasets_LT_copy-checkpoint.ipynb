{
 "cells": [
  {
   "cell_type": "markdown",
   "metadata": {},
   "source": [
    "##### Import"
   ]
  },
  {
   "cell_type": "code",
   "execution_count": 1,
   "metadata": {},
   "outputs": [],
   "source": [
    "import pandas as pd \n",
    "import os\n",
    "from pathlib import Path"
   ]
  },
  {
   "cell_type": "markdown",
   "metadata": {},
   "source": [
    "##### Crée un dictionnaire avec tous les datasets "
   ]
  },
  {
   "cell_type": "code",
   "execution_count": 2,
   "metadata": {
    "scrolled": true
   },
   "outputs": [
    {
     "name": "stdout",
     "output_type": "stream",
     "text": [
      "circuits\n",
      "constructors\n",
      "constructor_results\n",
      "constructor_standings\n",
      "drivers\n",
      "driver_standings\n",
      "lap_times\n",
      "pit_stops\n",
      "qualifying\n",
      "races\n",
      "results\n",
      "seasons\n",
      "status\n"
     ]
    }
   ],
   "source": [
    "csvDict = {}\n",
    "\n",
    "for subdir, dirs, files in os.walk(r'Datasets/'):\n",
    "    for filename in files:\n",
    "        filepath = subdir + os.sep + filename\n",
    "        if filepath.endswith(\".csv\"):\n",
    "            #if \"MN5_AROME\" in filename:\n",
    "            csvDict[filename[:-4]] = pd.read_csv(Path(filepath),sep=\",\")\n",
    "\n",
    "for i in csvDict.keys():\n",
    "    print (i)"
   ]
  },
  {
   "cell_type": "markdown",
   "metadata": {},
   "source": [
    "##### Affiche le nom de toutes les colonnes de tous les datasets"
   ]
  },
  {
   "cell_type": "code",
   "execution_count": 3,
   "metadata": {},
   "outputs": [
    {
     "name": "stdout",
     "output_type": "stream",
     "text": [
      "--- circuits\n",
      "circuitId\n",
      "circuitRef\n",
      "name\n",
      "location\n",
      "country\n",
      "lat\n",
      "lng\n",
      "alt\n",
      "url\n",
      "--- constructors\n",
      "constructorId\n",
      "constructorRef\n",
      "name\n",
      "nationality\n",
      "url\n",
      "--- constructor_results\n",
      "constructorResultsId\n",
      "raceId\n",
      "constructorId\n",
      "points\n",
      "status\n",
      "--- constructor_standings\n",
      "constructorStandingsId\n",
      "raceId\n",
      "constructorId\n",
      "points\n",
      "position\n",
      "positionText\n",
      "wins\n",
      "--- drivers\n",
      "driverId\n",
      "driverRef\n",
      "number\n",
      "code\n",
      "forename\n",
      "surname\n",
      "dob\n",
      "nationality\n",
      "url\n",
      "--- driver_standings\n",
      "driverStandingsId\n",
      "raceId\n",
      "driverId\n",
      "points\n",
      "position\n",
      "positionText\n",
      "wins\n",
      "--- lap_times\n",
      "raceId\n",
      "driverId\n",
      "lap\n",
      "position\n",
      "time\n",
      "milliseconds\n",
      "--- pit_stops\n",
      "raceId\n",
      "driverId\n",
      "stop\n",
      "lap\n",
      "time\n",
      "duration\n",
      "milliseconds\n",
      "--- qualifying\n",
      "qualifyId\n",
      "raceId\n",
      "driverId\n",
      "constructorId\n",
      "number\n",
      "position\n",
      "q1\n",
      "q2\n",
      "q3\n",
      "--- races\n",
      "raceId\n",
      "year\n",
      "round\n",
      "circuitId\n",
      "name\n",
      "date\n",
      "time\n",
      "url\n",
      "--- results\n",
      "resultId\n",
      "raceId\n",
      "driverId\n",
      "constructorId\n",
      "number\n",
      "grid\n",
      "position\n",
      "positionText\n",
      "positionOrder\n",
      "points\n",
      "laps\n",
      "time\n",
      "milliseconds\n",
      "fastestLap\n",
      "rank\n",
      "fastestLapTime\n",
      "fastestLapSpeed\n",
      "statusId\n",
      "--- seasons\n",
      "year\n",
      "url\n",
      "--- status\n",
      "statusId\n",
      "status\n"
     ]
    }
   ],
   "source": [
    "for dataset in csvDict:\n",
    "    print(\"---\", dataset)\n",
    "    for col in csvDict[dataset]:\n",
    "        print(col)"
   ]
  },
  {
   "cell_type": "markdown",
   "metadata": {},
   "source": [
    "##### Pour visualiser un dataset parmi le dictionnaire de datasets"
   ]
  },
  {
   "cell_type": "code",
   "execution_count": 4,
   "metadata": {},
   "outputs": [
    {
     "data": {
      "text/html": [
       "<div>\n",
       "<style scoped>\n",
       "    .dataframe tbody tr th:only-of-type {\n",
       "        vertical-align: middle;\n",
       "    }\n",
       "\n",
       "    .dataframe tbody tr th {\n",
       "        vertical-align: top;\n",
       "    }\n",
       "\n",
       "    .dataframe thead th {\n",
       "        text-align: right;\n",
       "    }\n",
       "</style>\n",
       "<table border=\"1\" class=\"dataframe\">\n",
       "  <thead>\n",
       "    <tr style=\"text-align: right;\">\n",
       "      <th></th>\n",
       "      <th>raceId</th>\n",
       "      <th>year</th>\n",
       "      <th>round</th>\n",
       "      <th>circuitId</th>\n",
       "      <th>name</th>\n",
       "      <th>date</th>\n",
       "      <th>time</th>\n",
       "      <th>url</th>\n",
       "    </tr>\n",
       "  </thead>\n",
       "  <tbody>\n",
       "    <tr>\n",
       "      <th>0</th>\n",
       "      <td>1</td>\n",
       "      <td>2009</td>\n",
       "      <td>1</td>\n",
       "      <td>1</td>\n",
       "      <td>Australian Grand Prix</td>\n",
       "      <td>2009-03-29</td>\n",
       "      <td>06:00:00</td>\n",
       "      <td>http://en.wikipedia.org/wiki/2009_Australian_G...</td>\n",
       "    </tr>\n",
       "    <tr>\n",
       "      <th>1</th>\n",
       "      <td>2</td>\n",
       "      <td>2009</td>\n",
       "      <td>2</td>\n",
       "      <td>2</td>\n",
       "      <td>Malaysian Grand Prix</td>\n",
       "      <td>2009-04-05</td>\n",
       "      <td>09:00:00</td>\n",
       "      <td>http://en.wikipedia.org/wiki/2009_Malaysian_Gr...</td>\n",
       "    </tr>\n",
       "    <tr>\n",
       "      <th>2</th>\n",
       "      <td>3</td>\n",
       "      <td>2009</td>\n",
       "      <td>3</td>\n",
       "      <td>17</td>\n",
       "      <td>Chinese Grand Prix</td>\n",
       "      <td>2009-04-19</td>\n",
       "      <td>07:00:00</td>\n",
       "      <td>http://en.wikipedia.org/wiki/2009_Chinese_Gran...</td>\n",
       "    </tr>\n",
       "    <tr>\n",
       "      <th>3</th>\n",
       "      <td>4</td>\n",
       "      <td>2009</td>\n",
       "      <td>4</td>\n",
       "      <td>3</td>\n",
       "      <td>Bahrain Grand Prix</td>\n",
       "      <td>2009-04-26</td>\n",
       "      <td>12:00:00</td>\n",
       "      <td>http://en.wikipedia.org/wiki/2009_Bahrain_Gran...</td>\n",
       "    </tr>\n",
       "    <tr>\n",
       "      <th>4</th>\n",
       "      <td>5</td>\n",
       "      <td>2009</td>\n",
       "      <td>5</td>\n",
       "      <td>4</td>\n",
       "      <td>Spanish Grand Prix</td>\n",
       "      <td>2009-05-10</td>\n",
       "      <td>12:00:00</td>\n",
       "      <td>http://en.wikipedia.org/wiki/2009_Spanish_Gran...</td>\n",
       "    </tr>\n",
       "  </tbody>\n",
       "</table>\n",
       "</div>"
      ],
      "text/plain": [
       "   raceId  year  round  circuitId                   name        date  \\\n",
       "0       1  2009      1          1  Australian Grand Prix  2009-03-29   \n",
       "1       2  2009      2          2   Malaysian Grand Prix  2009-04-05   \n",
       "2       3  2009      3         17     Chinese Grand Prix  2009-04-19   \n",
       "3       4  2009      4          3     Bahrain Grand Prix  2009-04-26   \n",
       "4       5  2009      5          4     Spanish Grand Prix  2009-05-10   \n",
       "\n",
       "       time                                                url  \n",
       "0  06:00:00  http://en.wikipedia.org/wiki/2009_Australian_G...  \n",
       "1  09:00:00  http://en.wikipedia.org/wiki/2009_Malaysian_Gr...  \n",
       "2  07:00:00  http://en.wikipedia.org/wiki/2009_Chinese_Gran...  \n",
       "3  12:00:00  http://en.wikipedia.org/wiki/2009_Bahrain_Gran...  \n",
       "4  12:00:00  http://en.wikipedia.org/wiki/2009_Spanish_Gran...  "
      ]
     },
     "execution_count": 4,
     "metadata": {},
     "output_type": "execute_result"
    }
   ],
   "source": [
    "csvDict[\"races\"].head()"
   ]
  },
  {
   "cell_type": "markdown",
   "metadata": {},
   "source": [
    "##### Vérifie que les dates soient bien au format date compris par la librairie pandas"
   ]
  },
  {
   "cell_type": "code",
   "execution_count": 5,
   "metadata": {},
   "outputs": [],
   "source": [
    "csvDict[\"races\"][\"date\"] = pd.to_datetime(csvDict[\"races\"][\"date\"])"
   ]
  },
  {
   "cell_type": "markdown",
   "metadata": {},
   "source": [
    "##### Choses à faire dans le nettoyage (à première vue)"
   ]
  },
  {
   "cell_type": "markdown",
   "metadata": {},
   "source": [
    "- Se poser la question d'utiliser la totalité des données historique que l'on a à disposition\n",
    "- Supprimer les URL si nécessaire \n",
    "---\n",
    "- Voir au niveau des écuries constructeurs si ce ne sont pas les mêmes car parfois il y a juste un changement de nom d'écurie mais c'est toujours la même (dataset constructors)\n",
    "- Lier les résultats des constructeurs au dataset constructors (voir comment faire, éventuellement un dataset pour chaque écurie avec ses résultats par courses)\n",
    "- Voir si il y a une différence entre position et positionText (dataset constructor_standings)\n",
    "- Voir la différence de lignes à quoi elle correspond entre le dataset constructor_results et constructor_standings\n",
    "- Lier les constructeurs aux résultats obtenus par leur pilote avec leur statusID (présent dans le dataset status)\n",
    "---\n",
    "- Faire le lien entre drivers et driver_standings\n",
    "- Lier les pilotes à leur résultat en qualification\n",
    "- Lier les pilotes à leur résultat en course avec leur statusID (présent dans le dataset status)\n",
    "---\n",
    "- Voir quel intérêt dans un modèle de Machine Learning il peut y avoir à étudier le temps de chaque pilote à chaque tour par course (sachant que dans le dataset results, on a déjà les meilleurs temps de chaque pilote de la course)\n",
    "- Voir quel intérêt en ML de conserver les pit_stops\n",
    "---\n",
    "- Lier les datasets circuits et races\n",
    "---\n",
    "- seasons ? utilité de conserver ce dataset ? "
   ]
  },
  {
   "cell_type": "code",
   "execution_count": null,
   "metadata": {},
   "outputs": [],
   "source": []
  }
 ],
 "metadata": {
  "kernelspec": {
   "display_name": "Python 3",
   "language": "python",
   "name": "python3"
  },
  "language_info": {
   "codemirror_mode": {
    "name": "ipython",
    "version": 3
   },
   "file_extension": ".py",
   "mimetype": "text/x-python",
   "name": "python",
   "nbconvert_exporter": "python",
   "pygments_lexer": "ipython3",
   "version": "3.7.9"
  }
 },
 "nbformat": 4,
 "nbformat_minor": 4
}
