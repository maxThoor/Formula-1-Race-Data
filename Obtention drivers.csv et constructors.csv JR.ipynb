{
 "cells": [
  {
   "cell_type": "code",
   "execution_count": 1,
   "metadata": {},
   "outputs": [],
   "source": [
    "import pandas as pd \n",
    "import os\n",
    "from pathlib import Path\n",
    "import csv\n",
    "import shutil\n",
    "from tempfile import NamedTemporaryFile"
   ]
  },
  {
   "cell_type": "markdown",
   "metadata": {},
   "source": [
    "#### Ouverture des plusieurs fichiers à rassembler dans un dictionnaire"
   ]
  },
  {
   "cell_type": "code",
   "execution_count": 2,
   "metadata": {},
   "outputs": [
    {
     "name": "stdout",
     "output_type": "stream",
     "text": [
      "constructors\n",
      "constructor_results\n",
      "constructor_standings\n",
      "drivers\n",
      "driver_standings\n"
     ]
    }
   ],
   "source": [
    "csvDict = {}\n",
    "\n",
    "for subdir, dirs, files in os.walk(r'Datasets_Kaggle/'):\n",
    "    for filename in files:\n",
    "        filepath = subdir + os.sep + filename\n",
    "        if filepath.endswith(\".csv\"):\n",
    "            #if \"MN5_AROME\" in filename:\n",
    "            if \"drivers.csv\" == filename:\n",
    "                csvDict[filename[:-4]] = pd.read_csv(Path(filepath), sep=\",\")\n",
    "            if \"driver_standings.csv\" == filename:\n",
    "                csvDict[filename[:-4]] = pd.read_csv(Path(filepath), sep=\",\")\n",
    "            if \"constructors.csv\" == filename:\n",
    "                csvDict[filename[:-4]] = pd.read_csv(Path(filepath), sep=\",\")\n",
    "            if \"constructor_standings.csv\" == filename:\n",
    "                csvDict[filename[:-4]] = pd.read_csv(Path(filepath), sep=\",\")\n",
    "            if \"constructor_results.csv\" == filename:\n",
    "                csvDict[filename[:-4]] = pd.read_csv(Path(filepath), sep=\",\")\n",
    "for i in csvDict.keys():\n",
    "    print (i)"
   ]
  },
  {
   "cell_type": "markdown",
   "metadata": {},
   "source": [
    "#### Affichage de chaque colonne de chaque fichier"
   ]
  },
  {
   "cell_type": "code",
   "execution_count": 3,
   "metadata": {},
   "outputs": [
    {
     "name": "stdout",
     "output_type": "stream",
     "text": [
      "--- constructors\n",
      "constructorId\n",
      "constructorRef\n",
      "name\n",
      "nationality\n",
      "url\n",
      "--- constructor_results\n",
      "constructorResultsId\n",
      "raceId\n",
      "constructorId\n",
      "points\n",
      "status\n",
      "--- constructor_standings\n",
      "constructorStandingsId\n",
      "raceId\n",
      "constructorId\n",
      "points\n",
      "position\n",
      "positionText\n",
      "wins\n",
      "--- drivers\n",
      "driverId\n",
      "driverRef\n",
      "number\n",
      "code\n",
      "forename\n",
      "surname\n",
      "dob\n",
      "nationality\n",
      "url\n",
      "--- driver_standings\n",
      "driverStandingsId\n",
      "raceId\n",
      "driverId\n",
      "points\n",
      "position\n",
      "positionText\n",
      "wins\n"
     ]
    }
   ],
   "source": [
    "for dataset in csvDict:\n",
    "    print(\"---\", dataset)\n",
    "    for col in csvDict[dataset]:\n",
    "        print(col)"
   ]
  },
  {
   "cell_type": "markdown",
   "metadata": {},
   "source": [
    "#### Suppression de colonnes inutiles dans les différents fichiers"
   ]
  },
  {
   "cell_type": "code",
   "execution_count": 4,
   "metadata": {},
   "outputs": [],
   "source": [
    "drivers = csvDict[\"drivers\"]\n",
    "drivers = drivers.drop(columns = [\"url\"], axis = 1)\n",
    "drivers = drivers.rename(columns = {'forename':'driverForename','surname':'driverSurname','dob':'driverDob','nationality':'driverNationality'})\n",
    "#drivers.to_csv(\"drivers_Clean.csv\", sep=';')"
   ]
  },
  {
   "cell_type": "code",
   "execution_count": 5,
   "metadata": {},
   "outputs": [],
   "source": [
    "constructors = csvDict[\"constructors\"]\n",
    "constructors = constructors.drop(columns = [\"url\"], axis=1)\n",
    "constructors = constructors.rename(columns = {'name':'constructorName','nationality':'constructorNationality'})\n",
    "constructors.to_csv(\"Datasets_Clean/constructors_Clean.csv\", sep=';')"
   ]
  }
 ],
 "metadata": {
  "kernelspec": {
   "display_name": "Python 3",
   "language": "python",
   "name": "python3"
  },
  "language_info": {
   "codemirror_mode": {
    "name": "ipython",
    "version": 3
   },
   "file_extension": ".py",
   "mimetype": "text/x-python",
   "name": "python",
   "nbconvert_exporter": "python",
   "pygments_lexer": "ipython3",
   "version": "3.7.9"
  }
 },
 "nbformat": 4,
 "nbformat_minor": 4
}
