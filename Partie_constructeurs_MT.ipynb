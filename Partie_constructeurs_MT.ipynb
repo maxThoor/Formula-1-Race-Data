{
 "cells": [
  {
   "cell_type": "markdown",
   "metadata": {},
   "source": [
    "# Partie Constructeurs MT"
   ]
  },
  {
   "cell_type": "markdown",
   "metadata": {},
   "source": [
    "##### Import"
   ]
  },
  {
   "cell_type": "code",
   "execution_count": 1,
   "metadata": {},
   "outputs": [],
   "source": [
    "import pandas as pd \n",
    "import os\n",
    "from pathlib import Path"
   ]
  },
  {
   "cell_type": "markdown",
   "metadata": {},
   "source": [
    "##### Créé un dictionnaire avec les datasets qui nous intéressent pour la partie constructeurs"
   ]
  },
  {
   "cell_type": "code",
   "execution_count": 2,
   "metadata": {},
   "outputs": [
    {
     "name": "stdout",
     "output_type": "stream",
     "text": [
      "constructors\n",
      "constructor_results\n",
      "constructor_standings\n",
      "races\n",
      "results\n",
      "status\n"
     ]
    }
   ],
   "source": [
    "csvDict = {}\n",
    "\n",
    "for subdir, dirs, files in os.walk(r'Datasets/'):\n",
    "    for filename in files:\n",
    "        filepath = subdir + os.sep + filename\n",
    "        if filepath.endswith(\".csv\"):\n",
    "            if \"constructor\" in filename:\n",
    "                csvDict[filename[:-4]] = pd.read_csv(Path(filepath),sep=\",\")\n",
    "            if \"results\" in filename:\n",
    "                csvDict[filename[:-4]] = pd.read_csv(Path(filepath),sep=\",\")\n",
    "            if \"status\" in filename:\n",
    "                csvDict[filename[:-4]] = pd.read_csv(Path(filepath),sep=\",\")\n",
    "            if \"races\" in filename:\n",
    "                csvDict[filename[:-4]] = pd.read_csv(Path(filepath),sep=\",\")\n",
    "\n",
    "for i in csvDict.keys():\n",
    "    print (i)"
   ]
  },
  {
   "cell_type": "markdown",
   "metadata": {},
   "source": [
    "##### Voir le nom des colonnes de chaque dataset"
   ]
  },
  {
   "cell_type": "code",
   "execution_count": 3,
   "metadata": {},
   "outputs": [
    {
     "name": "stdout",
     "output_type": "stream",
     "text": [
      "--- constructors\n",
      "constructorId\n",
      "constructorRef\n",
      "name\n",
      "nationality\n",
      "url\n",
      "--- constructor_results\n",
      "constructorResultsId\n",
      "raceId\n",
      "constructorId\n",
      "points\n",
      "status\n",
      "--- constructor_standings\n",
      "constructorStandingsId\n",
      "raceId\n",
      "constructorId\n",
      "points\n",
      "position\n",
      "positionText\n",
      "wins\n",
      "--- races\n",
      "raceId\n",
      "year\n",
      "round\n",
      "circuitId\n",
      "name\n",
      "date\n",
      "time\n",
      "url\n",
      "--- results\n",
      "resultId\n",
      "raceId\n",
      "driverId\n",
      "constructorId\n",
      "number\n",
      "grid\n",
      "position\n",
      "positionText\n",
      "positionOrder\n",
      "points\n",
      "laps\n",
      "time\n",
      "milliseconds\n",
      "fastestLap\n",
      "rank\n",
      "fastestLapTime\n",
      "fastestLapSpeed\n",
      "statusId\n",
      "--- status\n",
      "statusId\n",
      "status\n"
     ]
    }
   ],
   "source": [
    "for dataset in csvDict:\n",
    "    print(\"---\", dataset)\n",
    "    for col in csvDict[dataset]:\n",
    "        print(col)"
   ]
  },
  {
   "cell_type": "markdown",
   "metadata": {},
   "source": [
    "##### Affiche une seule fois chaque valeur dans la colonne"
   ]
  },
  {
   "cell_type": "code",
   "execution_count": 4,
   "metadata": {},
   "outputs": [
    {
     "data": {
      "text/plain": [
       "array(['McLaren', 'BMW Sauber', 'Williams', 'Renault', 'Toro Rosso',\n",
       "       'Ferrari', 'Toyota', 'Super Aguri', 'Red Bull', 'Force India',\n",
       "       'Honda', 'Spyker', 'MF1', 'Spyker MF1', 'Sauber', 'BAR', 'Jordan',\n",
       "       'Minardi', 'Jaguar', 'Prost', 'Arrows', 'Benetton', 'Brawn',\n",
       "       'Stewart', 'Tyrrell', 'Lola', 'Ligier', 'Forti', 'Footwork',\n",
       "       'Pacific', 'Simtek', 'Team Lotus', 'Larrousse', 'Brabham',\n",
       "       'Dallara', 'Fondmetal', 'March', 'Andrea Moda', 'AGS', 'Lambo',\n",
       "       'Leyton House', 'Coloni', 'Euro Brun', 'Osella', 'Onyx', 'Life',\n",
       "       'Rial', 'Zakspeed', 'RAM', 'Alfa Romeo', 'Spirit', 'Toleman',\n",
       "       'ATS', 'Theodore', 'Fittipaldi', 'Ensign', 'Shadow', 'Wolf',\n",
       "       'Merzario', 'Kauhsen', 'Rebaque', 'Surtees', 'Hesketh', 'Martini',\n",
       "       'BRM', 'Penske', 'LEC', 'McGuire', 'Boro', 'Apollon', 'Kojima',\n",
       "       'Parnelli', 'Maki', 'Embassy Hill', 'Lyncar', 'Trojan', 'Amon',\n",
       "       'Token', 'Iso Marlboro', 'Tecno', 'Matra', 'Politoys', 'Connew',\n",
       "       'Bellasi', 'De Tomaso', 'Cooper', 'Eagle', 'LDS', 'Protos',\n",
       "       'Shannon', 'Scirocco', 'RE', 'BRP', 'Porsche', 'Derrington',\n",
       "       'Gilby', 'Stebro', 'Emeryson', 'ENB', 'JBW', 'Ferguson', 'MBM',\n",
       "       'Behra-Porsche', 'Maserati', 'Scarab', 'Watson', 'Epperly',\n",
       "       'Phillips', 'Lesovsky', 'Trevis', 'Meskowski', 'Kurtis Kraft',\n",
       "       'Kuzma', 'Christensen', 'Ewing', 'Aston Martin', 'Vanwall',\n",
       "       'Moore', 'Dunn', 'Elder', 'Sutton', 'Fry', 'Tec-Mec', 'Connaught',\n",
       "       'Alta', 'OSCA', 'Gordini', 'Stevens', 'Bugatti', 'Mercedes',\n",
       "       'Lancia', 'HWM', 'Schroeder', 'Pawl', 'Pankratz', 'Arzani-Volpini',\n",
       "       'Nichels', 'Bromme', 'Klenk', 'Simca', 'Turner', 'Del Roy',\n",
       "       'Veritas', 'BMW', 'EMW', 'AFM', 'Frazer Nash', 'Sherman', 'Deidt',\n",
       "       'ERA', 'Aston Butterworth', 'Cisitalia', 'Talbot-Lago', 'Hall',\n",
       "       'Marchese', 'Langley', 'Rae', 'Olson', 'Wetteroth', 'Adams',\n",
       "       'Snowberger', 'Milano', 'HRT', 'Cooper-Maserati', 'Virgin',\n",
       "       'Cooper-OSCA', 'Cooper-Borgward', 'Cooper-Climax',\n",
       "       'Cooper-Castellotti', 'Lotus-Climax', 'Lotus-Maserati',\n",
       "       'De Tomaso-Osca', 'De Tomaso-Alfa Romeo', 'Lotus-BRM',\n",
       "       'Lotus-Borgward', 'Cooper-Alfa Romeo', 'De Tomaso-Ferrari',\n",
       "       'Lotus-Ford', 'Brabham-BRM', 'Brabham-Ford', 'Brabham-Climax',\n",
       "       'LDS-Climax', 'LDS-Alfa Romeo', 'Cooper-Ford', 'McLaren-Ford',\n",
       "       'McLaren-Serenissima', 'Eagle-Climax', 'Eagle-Weslake',\n",
       "       'Brabham-Repco', 'Cooper-Ferrari', 'Cooper-ATS', 'McLaren-BRM',\n",
       "       'Cooper-BRM', 'Matra-Ford', 'BRM-Ford', 'McLaren-Alfa Romeo',\n",
       "       'March-Alfa Romeo', 'March-Ford', 'Lotus-Pratt &amp; Whitney',\n",
       "       'Shadow-Ford', 'Shadow-Matra', 'Brabham-Alfa Romeo', 'Lotus',\n",
       "       'Marussia', 'Caterham', 'Lotus F1', 'Manor Marussia',\n",
       "       'Haas F1 Team', 'Racing Point', 'Scuderia Alpha Tauri',\n",
       "       'AlphaTauri'], dtype=object)"
      ]
     },
     "execution_count": 4,
     "metadata": {},
     "output_type": "execute_result"
    }
   ],
   "source": [
    "csvDict[\"constructors\"].name.unique()"
   ]
  },
  {
   "cell_type": "markdown",
   "metadata": {},
   "source": [
    "##### A partir d'un nom d'équipe, retrouver si elle a eu un nom un peu différent par le passé"
   ]
  },
  {
   "cell_type": "code",
   "execution_count": 5,
   "metadata": {
    "scrolled": true
   },
   "outputs": [
    {
     "name": "stdout",
     "output_type": "stream",
     "text": [
      "     constructorId        constructorRef                  name    nationality  \\\n",
      "49              51                  alfa            Alfa Romeo        Italian   \n",
      "172            175  de_tomaso-alfa_romeo  De Tomaso-Alfa Romeo        Italian   \n",
      "175            178     cooper-alfa_romeo     Cooper-Alfa Romeo        British   \n",
      "182            185        lds-alfa_romeo        LDS-Alfa Romeo  South African   \n",
      "195            198    mclaren-alfa_romeo    McLaren-Alfa Romeo        British   \n",
      "196            199      march-alfa_romeo      March-Alfa Romeo        British   \n",
      "201            204    brabham-alfa_romeo    Brabham-Alfa Romeo        British   \n",
      "\n",
      "                                                   url  \n",
      "49   http://en.wikipedia.org/wiki/Alfa_Romeo_in_For...  \n",
      "172             http://en.wikipedia.org/wiki/De_Tomaso  \n",
      "175    http://en.wikipedia.org/wiki/Cooper_Car_Company  \n",
      "182      http://en.wikipedia.org/wiki/LDS_(automobile)  \n",
      "195      http://en.wikipedia.org/wiki/McLaren_(racing)  \n",
      "196     http://en.wikipedia.org/wiki/March_Engineering  \n",
      "201               http://en.wikipedia.org/wiki/Brabham  \n"
     ]
    }
   ],
   "source": [
    "df = csvDict[\"constructors\"][csvDict[\"constructors\"][\"name\"].str.contains('Alfa Romeo', regex=False, case=False, na=False)]\n",
    "print (df)"
   ]
  },
  {
   "cell_type": "markdown",
   "metadata": {},
   "source": [
    "##### Renommer le temps final de chaque pilote à la fin de la course et mettre en index la raceId"
   ]
  },
  {
   "cell_type": "code",
   "execution_count": 7,
   "metadata": {},
   "outputs": [],
   "source": [
    "csvDict[\"results\"] = csvDict[\"results\"].rename(columns={'time': 'time_laps'})\n",
    "\n",
    "csvDict[\"races\"] = csvDict[\"races\"].set_index(\"raceId\")\n",
    "csvDict[\"results\"] = csvDict[\"results\"].set_index(\"raceId\")"
   ]
  },
  {
   "cell_type": "markdown",
   "metadata": {},
   "source": [
    "##### Associer les courses aux résultats "
   ]
  },
  {
   "cell_type": "code",
   "execution_count": 8,
   "metadata": {},
   "outputs": [
    {
     "data": {
      "text/html": [
       "<div>\n",
       "<style scoped>\n",
       "    .dataframe tbody tr th:only-of-type {\n",
       "        vertical-align: middle;\n",
       "    }\n",
       "\n",
       "    .dataframe tbody tr th {\n",
       "        vertical-align: top;\n",
       "    }\n",
       "\n",
       "    .dataframe thead th {\n",
       "        text-align: right;\n",
       "    }\n",
       "</style>\n",
       "<table border=\"1\" class=\"dataframe\">\n",
       "  <thead>\n",
       "    <tr style=\"text-align: right;\">\n",
       "      <th></th>\n",
       "      <th>resultId</th>\n",
       "      <th>driverId</th>\n",
       "      <th>constructorId</th>\n",
       "      <th>number</th>\n",
       "      <th>grid</th>\n",
       "      <th>position</th>\n",
       "      <th>positionText</th>\n",
       "      <th>positionOrder</th>\n",
       "      <th>points</th>\n",
       "      <th>laps</th>\n",
       "      <th>...</th>\n",
       "      <th>fastestLapTime</th>\n",
       "      <th>fastestLapSpeed</th>\n",
       "      <th>statusId</th>\n",
       "      <th>year</th>\n",
       "      <th>round</th>\n",
       "      <th>circuitId</th>\n",
       "      <th>name</th>\n",
       "      <th>date</th>\n",
       "      <th>time</th>\n",
       "      <th>url</th>\n",
       "    </tr>\n",
       "    <tr>\n",
       "      <th>raceId</th>\n",
       "      <th></th>\n",
       "      <th></th>\n",
       "      <th></th>\n",
       "      <th></th>\n",
       "      <th></th>\n",
       "      <th></th>\n",
       "      <th></th>\n",
       "      <th></th>\n",
       "      <th></th>\n",
       "      <th></th>\n",
       "      <th></th>\n",
       "      <th></th>\n",
       "      <th></th>\n",
       "      <th></th>\n",
       "      <th></th>\n",
       "      <th></th>\n",
       "      <th></th>\n",
       "      <th></th>\n",
       "      <th></th>\n",
       "      <th></th>\n",
       "      <th></th>\n",
       "    </tr>\n",
       "  </thead>\n",
       "  <tbody>\n",
       "    <tr>\n",
       "      <th>1036</th>\n",
       "      <td>24741</td>\n",
       "      <td>841</td>\n",
       "      <td>51</td>\n",
       "      <td>99</td>\n",
       "      <td>20</td>\n",
       "      <td>16</td>\n",
       "      <td>16</td>\n",
       "      <td>16</td>\n",
       "      <td>0.0</td>\n",
       "      <td>65</td>\n",
       "      <td>...</td>\n",
       "      <td>1:21.801</td>\n",
       "      <td>204.863</td>\n",
       "      <td>11</td>\n",
       "      <td>2020</td>\n",
       "      <td>6</td>\n",
       "      <td>4</td>\n",
       "      <td>Spanish Grand Prix</td>\n",
       "      <td>2020-08-16</td>\n",
       "      <td>13:10:00</td>\n",
       "      <td>https://en.wikipedia.org/wiki/2020_Spanish_Gra...</td>\n",
       "    </tr>\n",
       "    <tr>\n",
       "      <th>1036</th>\n",
       "      <td>24742</td>\n",
       "      <td>847</td>\n",
       "      <td>3</td>\n",
       "      <td>63</td>\n",
       "      <td>18</td>\n",
       "      <td>17</td>\n",
       "      <td>17</td>\n",
       "      <td>17</td>\n",
       "      <td>0.0</td>\n",
       "      <td>65</td>\n",
       "      <td>...</td>\n",
       "      <td>1:22.503</td>\n",
       "      <td>203.119</td>\n",
       "      <td>11</td>\n",
       "      <td>2020</td>\n",
       "      <td>6</td>\n",
       "      <td>4</td>\n",
       "      <td>Spanish Grand Prix</td>\n",
       "      <td>2020-08-16</td>\n",
       "      <td>13:10:00</td>\n",
       "      <td>https://en.wikipedia.org/wiki/2020_Spanish_Gra...</td>\n",
       "    </tr>\n",
       "    <tr>\n",
       "      <th>1036</th>\n",
       "      <td>24743</td>\n",
       "      <td>849</td>\n",
       "      <td>3</td>\n",
       "      <td>6</td>\n",
       "      <td>19</td>\n",
       "      <td>18</td>\n",
       "      <td>18</td>\n",
       "      <td>18</td>\n",
       "      <td>0.0</td>\n",
       "      <td>64</td>\n",
       "      <td>...</td>\n",
       "      <td>1:22.030</td>\n",
       "      <td>204.291</td>\n",
       "      <td>12</td>\n",
       "      <td>2020</td>\n",
       "      <td>6</td>\n",
       "      <td>4</td>\n",
       "      <td>Spanish Grand Prix</td>\n",
       "      <td>2020-08-16</td>\n",
       "      <td>13:10:00</td>\n",
       "      <td>https://en.wikipedia.org/wiki/2020_Spanish_Gra...</td>\n",
       "    </tr>\n",
       "    <tr>\n",
       "      <th>1036</th>\n",
       "      <td>24744</td>\n",
       "      <td>154</td>\n",
       "      <td>210</td>\n",
       "      <td>8</td>\n",
       "      <td>17</td>\n",
       "      <td>19</td>\n",
       "      <td>19</td>\n",
       "      <td>19</td>\n",
       "      <td>0.0</td>\n",
       "      <td>64</td>\n",
       "      <td>...</td>\n",
       "      <td>1:20.409</td>\n",
       "      <td>208.409</td>\n",
       "      <td>12</td>\n",
       "      <td>2020</td>\n",
       "      <td>6</td>\n",
       "      <td>4</td>\n",
       "      <td>Spanish Grand Prix</td>\n",
       "      <td>2020-08-16</td>\n",
       "      <td>13:10:00</td>\n",
       "      <td>https://en.wikipedia.org/wiki/2020_Spanish_Gra...</td>\n",
       "    </tr>\n",
       "    <tr>\n",
       "      <th>1036</th>\n",
       "      <td>24745</td>\n",
       "      <td>844</td>\n",
       "      <td>6</td>\n",
       "      <td>16</td>\n",
       "      <td>9</td>\n",
       "      <td>\\N</td>\n",
       "      <td>R</td>\n",
       "      <td>20</td>\n",
       "      <td>0.0</td>\n",
       "      <td>38</td>\n",
       "      <td>...</td>\n",
       "      <td>1:23.968</td>\n",
       "      <td>199.576</td>\n",
       "      <td>40</td>\n",
       "      <td>2020</td>\n",
       "      <td>6</td>\n",
       "      <td>4</td>\n",
       "      <td>Spanish Grand Prix</td>\n",
       "      <td>2020-08-16</td>\n",
       "      <td>13:10:00</td>\n",
       "      <td>https://en.wikipedia.org/wiki/2020_Spanish_Gra...</td>\n",
       "    </tr>\n",
       "  </tbody>\n",
       "</table>\n",
       "<p>5 rows × 24 columns</p>\n",
       "</div>"
      ],
      "text/plain": [
       "        resultId  driverId  constructorId number  grid position positionText  \\\n",
       "raceId                                                                         \n",
       "1036       24741       841             51     99    20       16           16   \n",
       "1036       24742       847              3     63    18       17           17   \n",
       "1036       24743       849              3      6    19       18           18   \n",
       "1036       24744       154            210      8    17       19           19   \n",
       "1036       24745       844              6     16     9       \\N            R   \n",
       "\n",
       "        positionOrder  points  laps  ... fastestLapTime fastestLapSpeed  \\\n",
       "raceId                               ...                                  \n",
       "1036               16     0.0    65  ...       1:21.801         204.863   \n",
       "1036               17     0.0    65  ...       1:22.503         203.119   \n",
       "1036               18     0.0    64  ...       1:22.030         204.291   \n",
       "1036               19     0.0    64  ...       1:20.409         208.409   \n",
       "1036               20     0.0    38  ...       1:23.968         199.576   \n",
       "\n",
       "       statusId  year round circuitId                name        date  \\\n",
       "raceId                                                                  \n",
       "1036         11  2020     6         4  Spanish Grand Prix  2020-08-16   \n",
       "1036         11  2020     6         4  Spanish Grand Prix  2020-08-16   \n",
       "1036         12  2020     6         4  Spanish Grand Prix  2020-08-16   \n",
       "1036         12  2020     6         4  Spanish Grand Prix  2020-08-16   \n",
       "1036         40  2020     6         4  Spanish Grand Prix  2020-08-16   \n",
       "\n",
       "            time                                                url  \n",
       "raceId                                                               \n",
       "1036    13:10:00  https://en.wikipedia.org/wiki/2020_Spanish_Gra...  \n",
       "1036    13:10:00  https://en.wikipedia.org/wiki/2020_Spanish_Gra...  \n",
       "1036    13:10:00  https://en.wikipedia.org/wiki/2020_Spanish_Gra...  \n",
       "1036    13:10:00  https://en.wikipedia.org/wiki/2020_Spanish_Gra...  \n",
       "1036    13:10:00  https://en.wikipedia.org/wiki/2020_Spanish_Gra...  \n",
       "\n",
       "[5 rows x 24 columns]"
      ]
     },
     "execution_count": 8,
     "metadata": {},
     "output_type": "execute_result"
    }
   ],
   "source": [
    "dfCons = csvDict[\"results\"].join(csvDict[\"races\"])\n",
    "dfCons.tail()"
   ]
  },
  {
   "cell_type": "markdown",
   "metadata": {},
   "source": [
    "##### Vérification si on a bien la bonne taille de dataset"
   ]
  },
  {
   "cell_type": "code",
   "execution_count": 9,
   "metadata": {},
   "outputs": [
    {
     "name": "stdout",
     "output_type": "stream",
     "text": [
      "1031\n",
      "24740\n",
      "24740\n"
     ]
    }
   ],
   "source": [
    "print(len(csvDict[\"races\"]))\n",
    "print(len(csvDict[\"results\"]))\n",
    "print(len(dfCons))"
   ]
  },
  {
   "cell_type": "markdown",
   "metadata": {},
   "source": [
    "##### Sauvegarde du CSV"
   ]
  },
  {
   "cell_type": "code",
   "execution_count": 10,
   "metadata": {},
   "outputs": [],
   "source": [
    "#dfCons.to_csv(\"Constructeurs_Clean.csv\", sep=';')"
   ]
  }
 ],
 "metadata": {
  "kernelspec": {
   "display_name": "Python 3",
   "language": "python",
   "name": "python3"
  },
  "language_info": {
   "codemirror_mode": {
    "name": "ipython",
    "version": 3
   },
   "file_extension": ".py",
   "mimetype": "text/x-python",
   "name": "python",
   "nbconvert_exporter": "python",
   "pygments_lexer": "ipython3",
   "version": "3.7.9"
  }
 },
 "nbformat": 4,
 "nbformat_minor": 4
}
